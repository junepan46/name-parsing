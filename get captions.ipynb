{
 "cells": [
  {
   "cell_type": "code",
   "execution_count": null,
   "metadata": {},
   "outputs": [],
   "source": [
    "def get_page_args(i):\n",
    "    if i==0:\n",
    "        return url\n",
    "    if i>0:\n",
    "        return url+'?page='+str(i)"
   ]
  },
  {
   "cell_type": "code",
   "execution_count": null,
   "metadata": {},
   "outputs": [],
   "source": [
    "def filter_by_date(links, cutoff=datetime(2014, 12, 1)):\n",
    "    L=get_links(links)\n",
    "    LL=[]\n",
    "    for i in range(len(L)):\n",
    "        d=L[i][1]\n",
    "        d=datetime.strptime(d,\"%A, %B %d, %Y\")\n",
    "        if d<=cutoff:\n",
    "            LL.append(L[i])\n",
    "    return LL"
   ]
  },
  {
   "cell_type": "code",
   "execution_count": null,
   "metadata": {},
   "outputs": [],
   "source": [
    "# Scraping all of the pages could take 10 minutes or so.\n",
    "\n",
    "LIMIT=33\n",
    "All_link_list=[]\n",
    "for i in range(LIMIT):\n",
    "    tt=filter_by_date(get_page_args(i),cutoff=datetime(2019, 1, 1))\n",
    "    All_link_list.extend(tt)\n",
    "\n",
    "def get_captions(path):\n",
    "    rpath=\"http://www.newyorksocialdiary.com\"+path\n",
    "    pageA=requests.get(rpath)\n",
    "    soupA = BeautifulSoup(pageA.text,\"lxml\")\n",
    "    captions = soupA.find_all('td',{'class':'photocaption','scope':'row'}) #works after 2016 (i.e. 2017 & 2018)\n",
    "    return captions\n",
    "\n",
    "#works for 2008-2016 (note, no captions for '/party-pictures/2008/more-new-years-eve')\n",
    "#works for late 2007, after 9/4/2007\n",
    "def get_captions2(path):\n",
    "    rpath=\"http://www.newyorksocialdiary.com\"+path\n",
    "    pageA=requests.get(rpath)\n",
    "    soupA = BeautifulSoup(pageA.text,\"lxml\")\n",
    "    captions = soupA.find_all('div',{'class':'photocaption'}) \n",
    "    return captions\n",
    "\n",
    "#works for 9/4/2007 and before\n",
    "def get_captions3(path):\n",
    "    rpath=\"http://www.newyorksocialdiary.com\"+path\n",
    "    pageA=requests.get(rpath)\n",
    "    soupA = BeautifulSoup(pageA.text,\"lxml\")\n",
    "    captions = soupA.find_all('font',{'face':'Verdana, Arial, Helvetica, sans-serif'}) \n",
    "    return captions\n",
    "\n",
    "\n",
    "\n",
    "Allcaptions=[]\n",
    "for x in All_link_list:\n",
    "    date=x[1]\n",
    "    d=datetime.strptime(date,\"%A, %B %d, %Y\")\n",
    "    if d<=datetime(2007, 9, 4):\n",
    "        Allcaptions.extend(get_captions3(x[0]))\n",
    "    elif (d>datetime(2007,9,4)) and (d<datetime(2017,1,1)):\n",
    "        Allcaptions.extend(get_captions2(x[0]))\n",
    "    else:\n",
    "        Allcaptions.extend(get_captions(x[0]))\n",
    "\n",
    "\n",
    "len(Allcaptions)\n"
   ]
  }
 ],
 "metadata": {
  "kernelspec": {
   "display_name": "Python 3",
   "language": "python",
   "name": "python3"
  },
  "language_info": {
   "codemirror_mode": {
    "name": "ipython",
    "version": 3
   },
   "file_extension": ".py",
   "mimetype": "text/x-python",
   "name": "python",
   "nbconvert_exporter": "python",
   "pygments_lexer": "ipython3",
   "version": "3.7.2"
  }
 },
 "nbformat": 4,
 "nbformat_minor": 2
}
